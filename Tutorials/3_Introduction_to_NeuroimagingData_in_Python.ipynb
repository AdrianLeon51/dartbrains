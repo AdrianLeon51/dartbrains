{
 "cells": [
  {
   "cell_type": "markdown",
   "metadata": {},
   "source": [
    "# Introduction to neuroimaging data with Python\n",
    "\n",
    "In this tutorial we will learn how to load, plot, and manipulate neuroimaging data in Python\n",
    "\n",
    "Written by Luke Chang"
   ]
  },
  {
   "cell_type": "markdown",
   "metadata": {},
   "source": [
    "## Nibabel"
   ]
  },
  {
   "cell_type": "markdown",
   "metadata": {},
   "source": [
    "Neuroimaging data is often stored in the format of nifti files `.nii` which can also be compressed using gzip `.nii.gz`.  These files store both 3D and 4D data and also contain structured metadata in the image **header**.\n",
    "\n",
    "There is an very nice tool to access nifti data stored on your file system in python called [nibabel](http://nipy.org/nibabel/).  If you don't already have nibabel installed on your computer it is easy via `pip`. First, tell the jupyter cell that you would like to access the unix system outside of the notebook and then install nibabel using pip. You only need to run this once (unless you would like to update the version)."
   ]
  },
  {
   "cell_type": "code",
   "execution_count": null,
   "metadata": {
    "ExecuteTime": {
     "end_time": "2019-04-02T16:16:05.898570Z",
     "start_time": "2019-04-02T16:16:04.982206Z"
    }
   },
   "outputs": [],
   "source": [
    "!pip install nibabel"
   ]
  },
  {
   "cell_type": "markdown",
   "metadata": {},
   "source": [
    "nibabel objects can be initialized by simply pointing to a nifti file even if it is compressed through gzip.  First, we will import the nibabel module as `nib` (short and sweet so that we don't have to type so much when using the tool).  I'm also including a path to where the data file is located so that I don't have to constantly type this.  It is easy to change this on your own computer.\n",
    "\n",
    "We will be loading an anatomical image from subject S01 from the open localizer [dataset](http://brainomics.cea.fr/localizer/).  See this [paper](https://bmcneurosci.biomedcentral.com/articles/10.1186/1471-2202-8-91) for more information about this dataset."
   ]
  },
  {
   "cell_type": "code",
   "execution_count": null,
   "metadata": {
    "ExecuteTime": {
     "end_time": "2019-04-02T16:16:08.846895Z",
     "start_time": "2019-04-02T16:16:08.221606Z"
    }
   },
   "outputs": [],
   "source": [
    "import os\n",
    "import nibabel as nib\n",
    "\n",
    "base_dir = '/Users/lukechang/Github/dartbrains/Tutorials'"
   ]
  },
  {
   "cell_type": "code",
   "execution_count": null,
   "metadata": {
    "ExecuteTime": {
     "end_time": "2019-04-02T18:01:19.153201Z",
     "start_time": "2019-04-02T18:01:19.149138Z"
    }
   },
   "outputs": [],
   "source": [
    "data = nib.load(os.path.join(base_dir, 'normalized_T1_anat_defaced.nii.gz'))"
   ]
  },
  {
   "cell_type": "markdown",
   "metadata": {
    "ExecuteTime": {
     "end_time": "2019-04-02T16:17:37.897447Z",
     "start_time": "2019-04-02T16:17:37.891458Z"
    }
   },
   "source": [
    "If we want to get more help on how to work with the nibabel data object we can either consult the [documentation](https://nipy.org/nibabel/tutorials.html#tutorials) or add a `?`."
   ]
  },
  {
   "cell_type": "code",
   "execution_count": null,
   "metadata": {
    "ExecuteTime": {
     "end_time": "2019-04-02T16:19:56.164535Z",
     "start_time": "2019-04-02T16:19:56.159963Z"
    }
   },
   "outputs": [],
   "source": [
    "data?"
   ]
  },
  {
   "cell_type": "markdown",
   "metadata": {
    "ExecuteTime": {
     "end_time": "2019-04-02T16:20:50.660143Z",
     "start_time": "2019-04-02T16:20:50.655870Z"
    }
   },
   "source": [
    "The imaging data is stored in either a 3D or 4D numpy array. Just like numpy, it is easy to get the dimensions of the data using `shape`"
   ]
  },
  {
   "cell_type": "code",
   "execution_count": null,
   "metadata": {
    "ExecuteTime": {
     "end_time": "2019-04-02T16:20:10.970419Z",
     "start_time": "2019-04-02T16:20:10.966781Z"
    }
   },
   "outputs": [],
   "source": [
    "data.shape"
   ]
  },
  {
   "cell_type": "markdown",
   "metadata": {},
   "source": [
    "We can also directly access the data and plot a single slice using standard matplotlib functions."
   ]
  },
  {
   "cell_type": "code",
   "execution_count": null,
   "metadata": {
    "ExecuteTime": {
     "end_time": "2019-04-02T16:23:41.399084Z",
     "start_time": "2019-04-02T16:23:41.260039Z"
    }
   },
   "outputs": [],
   "source": [
    "%matplotlib inline\n",
    "\n",
    "import matplotlib.pyplot as plt\n",
    "\n",
    "plt.imshow(data.get_data()[:,:,50])"
   ]
  },
  {
   "cell_type": "markdown",
   "metadata": {},
   "source": [
    "Try slicing different dimensions (x,y,z) yourself to get a feel for how the data is represented in this anatomical image."
   ]
  },
  {
   "cell_type": "code",
   "execution_count": null,
   "metadata": {},
   "outputs": [],
   "source": []
  },
  {
   "cell_type": "markdown",
   "metadata": {},
   "source": [
    "We can also access data from the image header. Let's assign the header of an image to a variable and print it to view it's contents."
   ]
  },
  {
   "cell_type": "code",
   "execution_count": null,
   "metadata": {
    "ExecuteTime": {
     "end_time": "2019-04-02T17:38:56.945749Z",
     "start_time": "2019-04-02T17:38:56.941836Z"
    }
   },
   "outputs": [],
   "source": [
    "header = data.header\n",
    "print(header)      "
   ]
  },
  {
   "cell_type": "markdown",
   "metadata": {
    "ExecuteTime": {
     "end_time": "2019-04-02T16:28:47.739625Z",
     "start_time": "2019-04-02T16:28:47.735681Z"
    }
   },
   "source": [
    "Some of the important information in the header is information about the orientation of the image in space. This can be represented as the affine matrix."
   ]
  },
  {
   "cell_type": "code",
   "execution_count": null,
   "metadata": {
    "ExecuteTime": {
     "end_time": "2019-04-02T16:28:56.156108Z",
     "start_time": "2019-04-02T16:28:56.152510Z"
    }
   },
   "outputs": [],
   "source": [
    "data.affine"
   ]
  },
  {
   "cell_type": "markdown",
   "metadata": {
    "ExecuteTime": {
     "end_time": "2019-04-02T17:16:36.537138Z",
     "start_time": "2019-04-02T17:16:36.531480Z"
    }
   },
   "source": [
    "The affine matrix is a way to transform images between spaces.\n",
    "\n",
    "Here is a short tutorial on affine transformations from the nibabel [documentation](https://nipy.org/nibabel/coordinate_systems.html).\n",
    "\n",
    "We have voxel coordinates (in voxel space).  We want to get scanner RAS+\n",
    "coordinates corresponding to the voxel coordinates.  We need a *coordinate\n",
    "transform* to take us from voxel coordinates to scanner RAS+ coordinates.\n",
    "\n",
    "In general, we have some voxel space coordinate $(i, j, k)$, and we want to\n",
    "generate the reference space coordinate $(x, y, z)$.\n",
    "\n",
    "Imagine we had solved this, and we had a coordinate transform function $f$\n",
    "that accepts a voxel coordinate and returns a coordinate in the reference\n",
    "space:\n",
    "\n",
    "$(x, y, z) = f(i, j, k)$\n",
    "\n",
    "$f$ accepts a coordinate in the *input* space and returns a coordinate in the\n",
    "*output* space.  In our case the input space is voxel space and the output\n",
    "space is scanner RAS+.\n",
    "\n",
    "In theory $f$ could be a complicated non-linear function, but in practice, we\n",
    "know that the scanner collects data on a regular grid.  This means that the\n",
    "relationship between $(i, j, k)$ and $(x, y, z)$ is linear (actually\n",
    "*affine*), and can be encoded with linear (actually affine) transformations\n",
    "comprising translations, rotations and zooms [wikipedia linear transform](https://en.wikipedia.org/wiki/Linear_map)\n",
    "\n",
    "Scaling (zooming) in three dimensions can be represented by a diagonal 3 by 3\n",
    "matrix.  Here's how to zoom the first dimension by $p$, the second by $q$ and\n",
    "the third by $r$ units:\n",
    "\n",
    "$\n",
    "\\begin{bmatrix}\n",
    "x\\\\\n",
    "y\\\\\n",
    "z\\\\\n",
    "\\end{bmatrix} =\n",
    "\\begin{bmatrix}\n",
    "p i\\\\\n",
    "q j\\\\\n",
    "r k\\\\\n",
    "\\end{bmatrix} =\n",
    "\\begin{bmatrix}\n",
    "p & 0 & 0 \\\\\n",
    "0 & q & 0 \\\\\n",
    "0 & 0 & r \\\\\n",
    "\\end{bmatrix}\n",
    "\\begin{bmatrix}\n",
    "i\\\\\n",
    "j\\\\\n",
    "k\\\\\n",
    "\\end{bmatrix}\n",
    "$\n",
    "\n",
    "A rotation in three dimensions can be represented as a 3 by 3 *rotation\n",
    "matrix* [wikipedia rotation matrix](https://en.wikipedia.org/wiki/Rotation_matrix).  For example, here is a rotation by\n",
    "$\\theta$ radians around the third array axis:\n",
    "\n",
    "$\n",
    "\\begin{bmatrix}\n",
    "x\\\\\n",
    "y\\\\\n",
    "z\\\\\n",
    "\\end{bmatrix} =\n",
    "\\begin{bmatrix}\n",
    "\\cos(\\theta) &  -\\sin(\\theta) & 0 \\\\\n",
    "\\sin(\\theta) & \\cos(\\theta) & 0 \\\\\n",
    "0 & 0 & 1 \\\\\n",
    "\\end{bmatrix}\n",
    "\\begin{bmatrix}\n",
    "i\\\\\n",
    "j\\\\\n",
    "k\\\\\n",
    "\\end{bmatrix}\n",
    "$\n",
    "\n",
    "This is a rotation by $\\phi$ radians around the second array axis:\n",
    "\n",
    "$\n",
    "\\begin{bmatrix}\n",
    "x\\\\\n",
    "y\\\\\n",
    "z\\\\\n",
    "\\end{bmatrix} =\n",
    "\\begin{bmatrix}\n",
    "\\cos(\\phi) & 0 & \\sin(\\phi) \\\\\n",
    "0 & 1 & 0 \\\\\n",
    "-\\sin(\\phi) & 0 & \\cos(\\phi) \\\\\n",
    "\\end{bmatrix}\n",
    "\\begin{bmatrix}\n",
    "i\\\\\n",
    "j\\\\\n",
    "k\\\\\n",
    "\\end{bmatrix}\n",
    "$\n",
    "\n",
    "A rotation of $\\gamma$ radians around the first array axis:\n",
    "\n",
    "$\n",
    "\\begin{bmatrix}\n",
    "x\\\\\n",
    "y\\\\\n",
    "z\\\\\n",
    "\\end{bmatrix} =\n",
    "\\begin{bmatrix}\n",
    "1 & 0 & 0 \\\\\n",
    "0 & \\cos(\\gamma) & -\\sin(\\gamma) \\\\\n",
    "0 & \\sin(\\gamma) & \\cos(\\gamma) \\\\\n",
    "\\end{bmatrix}\n",
    "\\begin{bmatrix}\n",
    "i\\\\\n",
    "j\\\\\n",
    "k\\\\\n",
    "\\end{bmatrix}\n",
    "$\n",
    "\n",
    "Zoom and rotation matrices can be combined by matrix multiplication.\n",
    "\n",
    "Here's a scaling of $p, q, r$ units followed by a rotation of $\\theta$ radians\n",
    "around the third axis followed by a rotation of $\\phi$ radians around the\n",
    "second axis:\n",
    "\n",
    "$\n",
    "\\begin{bmatrix}\n",
    "x\\\\\n",
    "y\\\\\n",
    "z\\\\\n",
    "\\end{bmatrix} =\n",
    "\\begin{bmatrix}\n",
    "\\cos(\\phi) & 0 & \\sin(\\phi) \\\\\n",
    "0 & 1 & 0 \\\\\n",
    "-\\sin(\\phi) & 0 & \\cos(\\phi) \\\\\n",
    "\\end{bmatrix}\n",
    "\\begin{bmatrix}\n",
    "\\cos(\\theta) &  -\\sin(\\theta) & 0 \\\\\n",
    "\\sin(\\theta) & \\cos(\\theta) & 0 \\\\\n",
    "0 & 0 & 1 \\\\\n",
    "\\end{bmatrix}\n",
    "\\begin{bmatrix}\n",
    "p & 0 & 0 \\\\\n",
    "0 & q & 0 \\\\\n",
    "0 & 0 & r \\\\\n",
    "\\end{bmatrix}\n",
    "\\begin{bmatrix}\n",
    "i\\\\\n",
    "j\\\\\n",
    "k\\\\\n",
    "\\end{bmatrix}\n",
    "$\n",
    "\n",
    "This can also be written:\n",
    "\n",
    "\n",
    "$\n",
    "M =\n",
    "\\begin{bmatrix}\n",
    "\\cos(\\phi) & 0 & \\sin(\\phi) \\\\\n",
    "0 & 1 & 0 \\\\\n",
    "-\\sin(\\phi) & 0 & \\cos(\\phi) \\\\\n",
    "\\end{bmatrix}\n",
    "\\begin{bmatrix}\n",
    "\\cos(\\theta) &  -\\sin(\\theta) & 0 \\\\\n",
    "\\sin(\\theta) & \\cos(\\theta) & 0 \\\\\n",
    "0 & 0 & 1 \\\\\n",
    "\\end{bmatrix}\n",
    "\\begin{bmatrix}\n",
    "p & 0 & 0 \\\\\n",
    "0 & q & 0 \\\\\n",
    "0 & 0 & r \\\\\n",
    "\\end{bmatrix}\n",
    "$\n",
    "\n",
    "$\n",
    "\\begin{bmatrix}\n",
    "x\\\\\n",
    "y\\\\\n",
    "z\\\\\n",
    "\\end{bmatrix} = M\n",
    "\\begin{bmatrix}\n",
    "i\\\\\n",
    "j\\\\\n",
    "k\\\\\n",
    "\\end{bmatrix}\n",
    "$\n",
    "\n",
    "This might be obvious because the matrix multiplication is the result of\n",
    "applying each transformation in turn on the coordinates output from the\n",
    "previous transformation. Combining the transformations into a single matrix\n",
    "$M$ works because matrix multiplication is associative -- $ABCD = (ABC)D$.\n",
    "\n",
    "A translation in three dimensions can be represented as a length 3 vector to\n",
    "be added to the length 3 coordinate.  For example, a translation of $a$ units\n",
    "on the first axis, $b$ on the second and $c$ on the third might be written\n",
    "as:\n",
    "\n",
    "$\n",
    "\\begin{bmatrix}\n",
    "x\\\\\n",
    "y\\\\\n",
    "z\\\\\n",
    "\\end{bmatrix} =\n",
    "\\begin{bmatrix}\n",
    "i\\\\\n",
    "j\\\\\n",
    "k\\\\\n",
    "\\end{bmatrix} +\n",
    "\\begin{bmatrix}\n",
    "a \\\\\n",
    "b \\\\\n",
    "c \\\\\n",
    "\\end{bmatrix}\n",
    "$\n",
    "\n",
    "We can write our function $f$ as a combination of matrix multiplication by\n",
    "some 3 by 3 rotation / zoom matrix $M$ followed by addition of a 3 by 1\n",
    "translation vector $(a, b, c)$\n",
    "\n",
    "$\n",
    "\\begin{bmatrix}\n",
    "x\\\\\n",
    "y\\\\\n",
    "z\\\\\n",
    "\\end{bmatrix} = M\n",
    "\\begin{bmatrix}\n",
    "i\\\\\n",
    "j\\\\\n",
    "k\\\\\n",
    "\\end{bmatrix} +\n",
    "\\begin{bmatrix}\n",
    "a\\\\\n",
    "b\\\\\n",
    "c\\\\\n",
    "\\end{bmatrix}\n",
    "$\n",
    "\n",
    "We could record the parameters necessary for $f$ as the 3 by 3 matrix, $M$\n",
    "and the 3 by 1 vector $(a, b, c)$.\n",
    "\n",
    "In fact, the 4 by 4 image *affine array* does include exactly this\n",
    "information. If $m_{i,j}$ is the value in row $i$ column $j$ of matrix $M$,\n",
    "then the image affine matrix $A$ is:\n",
    "\n",
    "$\n",
    "A =\n",
    "\\begin{bmatrix}\n",
    "m_{1,1} & m_{1,2} & m_{1,3} & a \\\\\n",
    "m_{2,1} & m_{2,2} & m_{2,3} & b \\\\\n",
    "m_{3,1} & m_{3,2} & m_{3,3} & c \\\\\n",
    "0 & 0 & 0 & 1 \\\\\n",
    "\\end{bmatrix}\n",
    "$\n",
    "\n",
    "Why the extra row of $[0, 0, 0, 1]$?  We need this row because we have\n",
    "rephrased the combination of rotations / zooms and translations as a\n",
    "transformation in *homogenous coordinates* (see [wikipedia homogenous\n",
    "coordinates](https://en.wikipedia.org/wiki/Homogeneous_coordinates)).  This is a trick that allows us to put the translation part into the same matrix as the rotations / zooms, so that both translations and\n",
    "rotations / zooms can be applied by matrix multiplication.  In order to make\n",
    "this work, we have to add an extra 1 to our input and output coordinate\n",
    "vectors:\n",
    "\n",
    "$\n",
    "\\begin{bmatrix}\n",
    "x\\\\\n",
    "y\\\\\n",
    "z\\\\\n",
    "1\\\\\n",
    "\\end{bmatrix} =\n",
    "\\begin{bmatrix}\n",
    "m_{1,1} & m_{1,2} & m_{1,3} & a \\\\\n",
    "m_{2,1} & m_{2,2} & m_{2,3} & b \\\\\n",
    "m_{3,1} & m_{3,2} & m_{3,3} & c \\\\\n",
    "0 & 0 & 0 & 1 \\\\\n",
    "\\end{bmatrix}\n",
    "\\begin{bmatrix}\n",
    "i\\\\\n",
    "j\\\\\n",
    "k\\\\\n",
    "1\\\\\n",
    "\\end{bmatrix}\n",
    "$\n",
    "\n",
    "This results in the same transformation as applying $M$ and $(a, b, c)$\n",
    "separately. One advantage of encoding transformations this way is that we can\n",
    "combine two sets of [rotations, zooms, translations] by matrix multiplication\n",
    "of the two corresponding affine matrices.\n",
    "\n",
    "In practice, although it is common to combine 3D transformations using 4 by 4\n",
    "affine matrices, we usually *apply* the transformations by breaking up the\n",
    "affine matrix into its component $M$ matrix and $(a, b, c)$ vector and doing:\n",
    "\n",
    "$\n",
    "\\begin{bmatrix}\n",
    "x\\\\\n",
    "y\\\\\n",
    "z\\\\\n",
    "\\end{bmatrix} = M\n",
    "\\begin{bmatrix}\n",
    "i\\\\\n",
    "j\\\\\n",
    "k\\\\\n",
    "\\end{bmatrix} +\n",
    "\\begin{bmatrix}\n",
    "a\\\\\n",
    "b\\\\\n",
    "c\\\\\n",
    "\\end{bmatrix}\n",
    "$\n",
    "\n",
    "As long as the last row of the 4 by 4 is $[0, 0, 0, 1]$, applying the\n",
    "transformations in this way is mathematically the same as using the full 4 by\n",
    "4 form, without the inconvenience of adding the extra 1 to our input and\n",
    "output vectors.\n"
   ]
  },
  {
   "cell_type": "markdown",
   "metadata": {},
   "source": [
    "You can think of the image affine as a combination of a series of\n",
    "transformations to go from voxel coordinates to mm coordinates in terms of the\n",
    "magnet isocenter.  Here is the EPI affine broken down into a series of\n",
    "transformations, with the results shown on the localizer image:\n",
    "\n",
    "<img src=\"https://nipy.org/nibabel/_images/illustrating_affine.png\" />"
   ]
  },
  {
   "cell_type": "markdown",
   "metadata": {},
   "source": [
    "Applying different affine transformations allows us to rotate, reflect, scale, and shear the image.\n",
    "\n",
    "For example, let's try to reflect the image so that it is facing the opposite direction."
   ]
  },
  {
   "cell_type": "code",
   "execution_count": null,
   "metadata": {
    "ExecuteTime": {
     "end_time": "2019-04-02T18:07:26.675084Z",
     "start_time": "2019-04-02T18:07:26.670337Z"
    }
   },
   "outputs": [],
   "source": [
    "import numpy as np\n",
    "from nibabel.affines import apply_affine, from_matvec, to_matvec\n",
    "\n",
    "reflect = np.array([[-1, 0, 0],\n",
    "                    [0, 1, 0],\n",
    "                    [0, 0, 1]])\n",
    "\n",
    "reflect_affine = from_matvec(reflect)\n",
    "reflect_affine"
   ]
  },
  {
   "cell_type": "markdown",
   "metadata": {},
   "source": [
    "Now maybe we would like to shift the image 10 units in the x direction."
   ]
  },
  {
   "cell_type": "code",
   "execution_count": null,
   "metadata": {
    "ExecuteTime": {
     "end_time": "2019-04-02T18:07:30.980488Z",
     "start_time": "2019-04-02T18:07:30.976753Z"
    }
   },
   "outputs": [],
   "source": [
    "translate_affine = from_matvec(reflect, [10, 0, 0])\n",
    "translate_affine"
   ]
  },
  {
   "cell_type": "markdown",
   "metadata": {},
   "source": [
    "What if we wanted to make the brain smaller by applying a scaling transformation?"
   ]
  },
  {
   "cell_type": "code",
   "execution_count": null,
   "metadata": {
    "ExecuteTime": {
     "end_time": "2019-04-02T18:07:47.781367Z",
     "start_time": "2019-04-02T18:07:47.776691Z"
    }
   },
   "outputs": [],
   "source": [
    "scaling_affine = np.array([[3, 0, 0, 0],\n",
    "                           [0, 3, 0, 0],\n",
    "                           [0, 0, 3, 0],\n",
    "                           [0, 0, 0, 1]])\n",
    "\n",
    "scaling_affine\n",
    "\n"
   ]
  },
  {
   "cell_type": "markdown",
   "metadata": {},
   "source": [
    "How about applying a rotation of 0.3 radians?"
   ]
  },
  {
   "cell_type": "code",
   "execution_count": null,
   "metadata": {
    "ExecuteTime": {
     "end_time": "2019-04-02T16:57:56.716382Z",
     "start_time": "2019-04-02T16:57:56.712617Z"
    }
   },
   "outputs": [],
   "source": [
    "cos_gamma = np.cos(0.3)\n",
    "sin_gamma = np.sin(0.3)\n",
    "rotation_affine = np.array([[1, 0, 0, 0],\n",
    "                            [0, cos_gamma, -sin_gamma, 0],\n",
    "                            [0, sin_gamma, cos_gamma, 0],\n",
    "                            [0, 0, 0, 1]])"
   ]
  },
  {
   "cell_type": "markdown",
   "metadata": {},
   "source": [
    "## Nilearn\n",
    "There are many useful tools from the [nilearn](https://nilearn.github.io/index.html) library to help manipulate and visualize neuroimaging data. See their [documentation](https://nilearn.github.io/plotting/index.html#different-plotting-functions) for an example.\n",
    "\n",
    "Let's make sure it is installed first."
   ]
  },
  {
   "cell_type": "code",
   "execution_count": null,
   "metadata": {
    "ExecuteTime": {
     "end_time": "2019-04-02T16:34:53.966495Z",
     "start_time": "2019-04-02T16:34:53.116135Z"
    }
   },
   "outputs": [],
   "source": [
    "!pip install nilearn"
   ]
  },
  {
   "cell_type": "markdown",
   "metadata": {},
   "source": [
    "Now let's load a few different plotting functions from their plotting module"
   ]
  },
  {
   "cell_type": "code",
   "execution_count": null,
   "metadata": {
    "ExecuteTime": {
     "end_time": "2019-04-02T16:34:33.993727Z",
     "start_time": "2019-04-02T16:34:33.990153Z"
    }
   },
   "outputs": [],
   "source": [
    "from nilearn.plotting import view_img, glass_brain, plot_anat, plot_epi"
   ]
  },
  {
   "cell_type": "code",
   "execution_count": null,
   "metadata": {},
   "outputs": [],
   "source": [
    "we can make simple "
   ]
  },
  {
   "cell_type": "code",
   "execution_count": null,
   "metadata": {
    "ExecuteTime": {
     "end_time": "2019-04-02T16:35:05.279605Z",
     "start_time": "2019-04-02T16:35:04.532282Z"
    }
   },
   "outputs": [],
   "source": [
    "plot_anat(data)"
   ]
  },
  {
   "cell_type": "markdown",
   "metadata": {},
   "source": [
    "Nilearn plotting functions are very flexible and allow us to easily customize our plots"
   ]
  },
  {
   "cell_type": "code",
   "execution_count": null,
   "metadata": {
    "ExecuteTime": {
     "end_time": "2019-04-02T16:36:53.339807Z",
     "start_time": "2019-04-02T16:36:52.544928Z"
    }
   },
   "outputs": [],
   "source": [
    "plot_anat(data, draw_cross=False, display_mode='z')"
   ]
  },
  {
   "cell_type": "markdown",
   "metadata": {},
   "source": [
    "try to get more information how to use the function with `?` and try to add different commands to change the plot"
   ]
  },
  {
   "cell_type": "markdown",
   "metadata": {},
   "source": [
    "nilearn also has a neat interactive viewer called `view_img` for examining images directly in the notebook. "
   ]
  },
  {
   "cell_type": "code",
   "execution_count": null,
   "metadata": {
    "ExecuteTime": {
     "end_time": "2019-04-02T16:42:41.916181Z",
     "start_time": "2019-04-02T16:42:40.827827Z"
    }
   },
   "outputs": [],
   "source": [
    "view_img(data)"
   ]
  },
  {
   "cell_type": "markdown",
   "metadata": {},
   "source": [
    "The `view_img` function is particularly useful for overlaying statistical maps over an anatomical image so that we can interactively examine where the results are located.\n",
    "\n",
    "As an example, let's load a mask of the amygdala and try to find where it is located."
   ]
  },
  {
   "cell_type": "code",
   "execution_count": null,
   "metadata": {
    "ExecuteTime": {
     "end_time": "2019-04-02T16:42:36.244270Z",
     "start_time": "2019-04-02T16:42:32.971974Z"
    }
   },
   "outputs": [],
   "source": [
    "amygdala_mask = nib.load(os.path.join(base_dir,  'FSL_BAmyg_thr0.nii.gz'))\n",
    "view_img(amygdala_mask, data)"
   ]
  },
  {
   "cell_type": "markdown",
   "metadata": {
    "ExecuteTime": {
     "end_time": "2019-04-02T17:29:47.414192Z",
     "start_time": "2019-04-02T17:29:47.410730Z"
    }
   },
   "source": [
    "We can also load 4D data such as a series of epi images.  Here we will load a short functional run from the same particiapnts."
   ]
  },
  {
   "cell_type": "code",
   "execution_count": null,
   "metadata": {
    "ExecuteTime": {
     "end_time": "2019-04-02T17:30:47.564996Z",
     "start_time": "2019-04-02T17:30:47.560518Z"
    }
   },
   "outputs": [],
   "source": [
    "epi = nib.load(os.path.join(base_dir, 'raw_fMRI_raw_bold.nii.gz'))\n",
    "print(epi.shape)"
   ]
  },
  {
   "cell_type": "markdown",
   "metadata": {},
   "source": [
    "For some reason nibabel is reading this nifti as a 5D image.  Let's quickly remove the extra dimension."
   ]
  },
  {
   "cell_type": "code",
   "execution_count": null,
   "metadata": {
    "ExecuteTime": {
     "end_time": "2019-04-02T17:32:51.697369Z",
     "start_time": "2019-04-02T17:32:51.694346Z"
    }
   },
   "outputs": [],
   "source": [
    "epi_data = epi.get_fdata()\n",
    "epi_data = epi_data.squeeze()\n",
    "print(epi_data.shape)"
   ]
  },
  {
   "cell_type": "markdown",
   "metadata": {},
   "source": [
    "Ok, looks like this fixed the dimensions.\n",
    "\n",
    "Now, let's plot the average voxel signal intensity across the whole brain for each of the 128 TRs."
   ]
  },
  {
   "cell_type": "code",
   "execution_count": null,
   "metadata": {
    "ExecuteTime": {
     "end_time": "2019-04-02T17:34:53.791805Z",
     "start_time": "2019-04-02T17:34:53.659590Z"
    }
   },
   "outputs": [],
   "source": [
    "plt.plot(np.mean(epi_data,axis=(0,1,2)))"
   ]
  },
  {
   "cell_type": "markdown",
   "metadata": {},
   "source": [
    "Notice the slow linear drift over time, where the global signal intensity gradually decreases."
   ]
  },
  {
   "cell_type": "code",
   "execution_count": null,
   "metadata": {},
   "outputs": [],
   "source": [
    "new_affine = np.dot(data.affine,scaling_affine)\n",
    "new_data = nib.Nifti1Image(data.get_data(), new_affine)\n",
    "plt.imshow(new_data.get_data()[:,:,50]) "
   ]
  }
 ],
 "metadata": {
  "kernelspec": {
   "display_name": "Python 3",
   "language": "python",
   "name": "python3"
  },
  "language_info": {
   "codemirror_mode": {
    "name": "ipython",
    "version": 3
   },
   "file_extension": ".py",
   "mimetype": "text/x-python",
   "name": "python",
   "nbconvert_exporter": "python",
   "pygments_lexer": "ipython3",
   "version": "3.7.3"
  },
  "toc": {
   "base_numbering": 1,
   "nav_menu": {},
   "number_sections": true,
   "sideBar": true,
   "skip_h1_title": false,
   "title_cell": "Table of Contents",
   "title_sidebar": "Contents",
   "toc_cell": false,
   "toc_position": {},
   "toc_section_display": true,
   "toc_window_display": false
  }
 },
 "nbformat": 4,
 "nbformat_minor": 2
}
