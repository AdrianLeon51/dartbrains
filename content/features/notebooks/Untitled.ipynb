{
 "cells": [
  {
   "cell_type": "code",
   "execution_count": 2,
   "metadata": {
    "ExecuteTime": {
     "end_time": "2019-05-01T03:29:38.753599Z",
     "start_time": "2019-05-01T03:29:35.275436Z"
    }
   },
   "outputs": [],
   "source": [
    "%matplotlib inline\n",
    "\n",
    "import os\n",
    "import glob\n",
    "import numpy as np\n",
    "import pandas as pd\n",
    "import matplotlib.pyplot as plt\n",
    "import seaborn as sns\n",
    "from nltools.stats import regress\n",
    "from nltools.external import glover_hrf"
   ]
  },
  {
   "cell_type": "markdown",
   "metadata": {},
   "source": [
    "## One Sample t-test\n",
    "\n",
    "\n",
    "$$\n",
    "\\begin{bmatrix}\n",
    "s_1 \\\\\n",
    "s_2 \\\\\n",
    "s_3 \\\\\n",
    "s_4 \\\\\n",
    "s_5 \\\\\n",
    "s_6\n",
    "\\end{bmatrix}\n",
    "\\quad\n",
    "=\n",
    "\\quad\n",
    "\\begin{bmatrix}\n",
    "1 \\\\\n",
    "1 \\\\\n",
    "1 \\\\\n",
    "1 \\\\\n",
    "1 \\\\\n",
    "1\n",
    "\\end{bmatrix}\n",
    "\\begin{bmatrix}\n",
    "b_0 \n",
    "\\end{bmatrix}\n",
    "$$\n"
   ]
  },
  {
   "cell_type": "code",
   "execution_count": 86,
   "metadata": {
    "ExecuteTime": {
     "end_time": "2019-05-01T04:47:40.882955Z",
     "start_time": "2019-05-01T04:47:40.768609Z"
    }
   },
   "outputs": [
    {
     "name": "stdout",
     "output_type": "stream",
     "text": [
      "betas: 7.9326160537064485\n",
      "mean(y): 7.9326160537064485\n",
      "mean(group1): 10.511617872784452\n",
      "mean(group2): 5.353614234628445\n",
      "mean(group1) - mean(group2): 5.158003638156007\n"
     ]
    },
    {
     "data": {
      "image/png": "[encoded data removed]",
      "text/plain": [
       "<Figure size 432x288 with 2 Axes>"
      ]
     },
     "metadata": {
      "needs_background": "light"
     },
     "output_type": "display_data"
    }
   ],
   "source": [
    "# Simulate Data\n",
    "group1_params = {'n':20, 'mean':10, 'sd':2}\n",
    "group2_params = {'n':20, 'mean':5, 'sd':2}\n",
    "group1 = group1_params['mean'] + np.random.randn(group1_params['n']) * group1_params['sd']\n",
    "group2 = group2_params['mean'] + np.random.randn(group2_params['n']) * group2_params['sd']\n",
    "\n",
    "y = np.hstack([group1, group2])\n",
    "x = pd.DataFrame({'Intercept':np.ones(len(y))})\n",
    "\n",
    "def run_regression_simulation(x, y):\n",
    "    '''This Function runs a regression and outputs results'''\n",
    "    # Estimate Regression\n",
    "    b, t, p, df, res = regress(x, y)\n",
    "    print(f\"betas: {b}\")\n",
    "    if x.shape[1] > 1:\n",
    "        print(f\"beta1 + beta2: {b[0] + b[1]}\")\n",
    "        print(f\"beta1 - beta2: {b[0] - b[1]}\")\n",
    "    print(f\"mean(y): {np.mean(y)}\")\n",
    "    print(f\"mean(group1): {np.mean(group1)}\")\n",
    "    print(f\"mean(group2): {np.mean(group2)}\")\n",
    "    print(f\"mean(group1) - mean(group2): {np.mean(group1)-np.mean(group2)}\")\n",
    "\n",
    "    # Create Plot\n",
    "    f,a = plt.subplots(ncols=2, sharey=True)\n",
    "    sns.heatmap(pd.DataFrame(y), ax=a[0], cbar=False, yticklabels=False, xticklabels=False)\n",
    "    sns.heatmap(x, ax=a[1], cbar=False, yticklabels=False)\n",
    "    a[0].set_ylabel('Subject Values', fontsize=18)    \n",
    "    a[0].set_title('Y')    \n",
    "    a[1].set_title('X')\n",
    "    plt.tight_layout()\n",
    "    \n",
    "run_regression_simulation(x, y)\n",
    "    "
   ]
  },
  {
   "cell_type": "markdown",
   "metadata": {},
   "source": [
    "## Dummy Codes\n",
    "\n",
    "$$\n",
    "\\begin{bmatrix}\n",
    "s_1 \\\\\n",
    "s_2 \\\\\n",
    "s_3 \\\\\n",
    "s_4 \\\\\n",
    "s_5 \\\\\n",
    "s_6\n",
    "\\end{bmatrix}\n",
    "\\quad\n",
    "=\n",
    "\\quad\n",
    "\\begin{bmatrix}\n",
    "1 & 1\\\\\n",
    "1 & 1\\\\\n",
    "1 & 1\\\\\n",
    "1 & 0\\\\\n",
    "1 & 0\\\\\n",
    "1 & 0\n",
    "\\end{bmatrix}\n",
    "\\begin{bmatrix}\n",
    "b_0 \\\\\n",
    "b_1\n",
    "\\end{bmatrix}\n",
    "$$\n"
   ]
  },
  {
   "cell_type": "code",
   "execution_count": 87,
   "metadata": {
    "ExecuteTime": {
     "end_time": "2019-05-01T04:48:08.734661Z",
     "start_time": "2019-05-01T04:48:08.611298Z"
    }
   },
   "outputs": [
    {
     "name": "stdout",
     "output_type": "stream",
     "text": [
      "betas: [5.12451205 5.23206959]\n",
      "beta1 + beta2: 10.356581640839789\n",
      "beta1 - beta2: -0.10755753131001544\n",
      "mean(y): 7.740546847802338\n",
      "mean(group1): 10.356581640839789\n",
      "mean(group2): 5.124512054764885\n",
      "mean(group1) - mean(group2): 5.232069586074903\n"
     ]
    },
    {
     "data": {
      "image/png": "[encoded data removed]",
      "text/plain": [
       "<Figure size 432x288 with 2 Axes>"
      ]
     },
     "metadata": {
      "needs_background": "light"
     },
     "output_type": "display_data"
    }
   ],
   "source": [
    "# Simulate Data\n",
    "group1_params = {'n':20, 'mean':10, 'sd':2}\n",
    "group2_params = {'n':20, 'mean':5, 'sd':2}\n",
    "group1 = group1_params['mean'] + np.random.randn(group1_params['n']) * group1_params['sd']\n",
    "group2 = group2_params['mean'] + np.random.randn(group2_params['n']) * group2_params['sd']\n",
    "\n",
    "y = np.hstack([group1, group2])\n",
    "x = pd.DataFrame({'Intercept':np.ones(len(y)), 'Contrast':np.hstack([np.ones(group1_params['n']), np.zeros(group2_params['n'])])})\n",
    "\n",
    "run_regression_simulation(x, y)\n",
    "  "
   ]
  },
  {
   "cell_type": "markdown",
   "metadata": {},
   "source": [
    "## Contrasts\n",
    "\n",
    "Another way to compare two different groups is by creating a model with\n",
    "\n",
    "$$\n",
    "\\begin{bmatrix}\n",
    "s_1 \\\\\n",
    "s_2 \\\\\n",
    "s_3 \\\\\n",
    "s_4 \\\\\n",
    "s_5 \\\\\n",
    "s_6\n",
    "\\end{bmatrix}\n",
    "\\quad\n",
    "=\n",
    "\\quad\n",
    "\\begin{bmatrix}\n",
    "1 & 1\\\\\n",
    "1 & 1\\\\\n",
    "1 & 1\\\\\n",
    "1 & -1\\\\\n",
    "1 & -1\\\\\n",
    "1 & -1\n",
    "\\end{bmatrix}\n",
    "\\begin{bmatrix}\n",
    "b_0 \\\\\n",
    "b_1\n",
    "\\end{bmatrix}\n",
    "$$\n"
   ]
  },
  {
   "cell_type": "code",
   "execution_count": 89,
   "metadata": {
    "ExecuteTime": {
     "end_time": "2019-05-01T04:49:22.114586Z",
     "start_time": "2019-05-01T04:49:21.992924Z"
    }
   },
   "outputs": [
    {
     "name": "stdout",
     "output_type": "stream",
     "text": [
      "betas: [7.10389995 2.18625077]\n",
      "beta1 + beta2: 9.290150715506186\n",
      "beta1 - beta2: 4.917649180907335\n",
      "mean(y): 7.103899948206762\n",
      "mean(group1): 9.290150715506188\n",
      "mean(group2): 4.917649180907335\n",
      "mean(group1) - mean(group2): 4.372501534598853\n"
     ]
    },
    {
     "data": {
      "image/png": "[encoded data removed]",
      "text/plain": [
       "<Figure size 432x288 with 2 Axes>"
      ]
     },
     "metadata": {
      "needs_background": "light"
     },
     "output_type": "display_data"
    }
   ],
   "source": [
    "# Simulate Data\n",
    "group1_params = {'n':20, 'mean':10, 'sd':2}\n",
    "group2_params = {'n':20, 'mean':5, 'sd':2}\n",
    "group1 = group1_params['mean'] + np.random.randn(group1_params['n']) * group1_params['sd']\n",
    "group2 = group2_params['mean'] + np.random.randn(group2_params['n']) * group2_params['sd']\n",
    "\n",
    "y = np.hstack([group1, group2])\n",
    "x = pd.DataFrame({'Intercept':np.ones(len(y)), 'Contrast':np.hstack([np.ones(group1_params['n']), -1*np.ones(group2_params['n'])])})\n",
    "\n",
    "run_regression_simulation(x, y)"
   ]
  },
  {
   "cell_type": "markdown",
   "metadata": {},
   "source": [
    "What if the group sizes are unbalanced?  Will this effect our results?\n",
    "\n",
    "To test this, we will double the sample size of group1 and rerun the simulation."
   ]
  },
  {
   "cell_type": "code",
   "execution_count": 90,
   "metadata": {
    "ExecuteTime": {
     "end_time": "2019-05-01T04:50:05.962631Z",
     "start_time": "2019-05-01T04:50:05.846323Z"
    }
   },
   "outputs": [
    {
     "name": "stdout",
     "output_type": "stream",
     "text": [
      "betas: [7.51837082 2.22126506]\n",
      "beta1 + beta2: 9.739635879581234\n",
      "beta1 - beta2: 5.297105766399245\n",
      "mean(y): 8.25879250852057\n",
      "mean(group1): 9.739635879581234\n",
      "mean(group2): 5.297105766399245\n",
      "mean(group1) - mean(group2): 4.44253011318199\n"
     ]
    },
    {
     "data": {
      "image/png": "[encoded data removed]",
      "text/plain": [
       "<Figure size 432x288 with 2 Axes>"
      ]
     },
     "metadata": {
      "needs_background": "light"
     },
     "output_type": "display_data"
    }
   ],
   "source": [
    "# Simulate Data\n",
    "group1_params = {'n':40, 'mean':10, 'sd':2}\n",
    "group2_params = {'n':20, 'mean':5, 'sd':2}\n",
    "group1 = group1_params['mean'] + np.random.randn(group1_params['n']) * group1_params['sd']\n",
    "group2 = group2_params['mean'] + np.random.randn(group2_params['n']) * group2_params['sd']\n",
    "\n",
    "y = np.hstack([group1, group2])\n",
    "x = pd.DataFrame({'Intercept':np.ones(len(y)), 'Contrast':np.hstack([np.ones(group1_params['n']), -1*np.ones(group2_params['n'])])})\n",
    "\n",
    "run_regression_simulation(x, y)"
   ]
  },
  {
   "cell_type": "markdown",
   "metadata": {},
   "source": [
    "## Modeling Group Means Separately\n",
    "\n",
    "$$\n",
    "\\begin{bmatrix}\n",
    "s_1 \\\\\n",
    "s_2 \\\\\n",
    "s_3 \\\\\n",
    "s_4 \\\\\n",
    "s_5 \\\\\n",
    "s_6\n",
    "\\end{bmatrix}\n",
    "\\quad\n",
    "=\n",
    "\\quad\n",
    "\\begin{bmatrix}\n",
    "1 & 0\\\\\n",
    "1 & 0\\\\\n",
    "1 & 0\\\\\n",
    "0 & 1\\\\\n",
    "0 & 1\\\\\n",
    "0 & 1\n",
    "\\end{bmatrix}\n",
    "\\begin{bmatrix}\n",
    "b_0 \\\\\n",
    "b_1\n",
    "\\end{bmatrix}\n",
    "$$"
   ]
  },
  {
   "cell_type": "code",
   "execution_count": 91,
   "metadata": {
    "ExecuteTime": {
     "end_time": "2019-05-01T04:50:30.444338Z",
     "start_time": "2019-05-01T04:50:30.325216Z"
    }
   },
   "outputs": [
    {
     "name": "stdout",
     "output_type": "stream",
     "text": [
      "betas: [10.28797624  5.19391029]\n",
      "beta1 + beta2: 15.481886524986406\n",
      "beta1 - beta2: 5.094065947374931\n",
      "mean(y): 7.740943262493204\n",
      "mean(group1): 10.287976236180672\n",
      "mean(group2): 5.193910288805737\n",
      "mean(group1) - mean(group2): 5.094065947374935\n"
     ]
    },
    {
     "data": {
      "image/png": "[encoded data removed]",
      "text/plain": [
       "<Figure size 432x288 with 2 Axes>"
      ]
     },
     "metadata": {
      "needs_background": "light"
     },
     "output_type": "display_data"
    }
   ],
   "source": [
    "# Simulate Data\n",
    "group1_params = {'n':20, 'mean':10, 'sd':2}\n",
    "group2_params = {'n':20, 'mean':5, 'sd':2}\n",
    "group1 = group1_params['mean'] + np.random.randn(group1_params['n']) * group1_params['sd']\n",
    "group2 = group2_params['mean'] + np.random.randn(group2_params['n']) * group2_params['sd']\n",
    "\n",
    "y = np.hstack([group1, group2])\n",
    "x = pd.DataFrame({'Group1':np.hstack([np.ones(len(group1)), np.zeros(len(group2))]), 'Group2':np.hstack([np.zeros(len(group1)), np.ones(len(group2))])})\n",
    "\n",
    "run_regression_simulation(x, y)"
   ]
  },
  {
   "cell_type": "code",
   "execution_count": 58,
   "metadata": {
    "ExecuteTime": {
     "end_time": "2019-05-01T04:36:18.709518Z",
     "start_time": "2019-05-01T04:36:18.704968Z"
    }
   },
   "outputs": [
    {
     "data": {
      "text/plain": [
       "array([ 9.12988884,  8.65763516,  4.63425286,  9.95215938,  7.67814641,\n",
       "       12.59015395, 11.74022102,  8.24708516,  8.32141022, 13.4251929 ,\n",
       "        9.96547594, 11.3749677 ,  9.44185128, 10.42667277, 10.07317282,\n",
       "       10.77373198,  9.81029412,  9.58863186, 11.73751513, 11.13132051,\n",
       "        8.42706649,  0.52564773,  4.98590619,  0.9337393 ,  3.93031897,\n",
       "        4.41152863,  6.96252694,  3.78651248,  3.87443573,  5.53165557,\n",
       "        5.24683567,  5.88248183, 10.51942195,  5.45791057,  3.59717407,\n",
       "        6.11362642,  4.87956305,  8.35471367,  2.74646782,  5.38086938])"
      ]
     },
     "execution_count": 58,
     "metadata": {},
     "output_type": "execute_result"
    }
   ],
   "source": [
    "# Create Plot\n",
    "plt.figure()\n",
    "plt.hist(group1)\n",
    "plt.hist(group2)\n",
    "plt.axvline(x=np.mean(group1))\n",
    "plt.axvline(x=np.mean(group2))"
   ]
  },
  {
   "cell_type": "code",
   "execution_count": null,
   "metadata": {},
   "outputs": [],
   "source": []
  }
 ],
 "metadata": {
  "kernelspec": {
   "display_name": "Python [conda env:py36]",
   "language": "python",
   "name": "conda-env-py36-py"
  },
  "language_info": {
   "codemirror_mode": {
    "name": "ipython",
    "version": 3
   },
   "file_extension": ".py",
   "mimetype": "text/x-python",
   "name": "python",
   "nbconvert_exporter": "python",
   "pygments_lexer": "ipython3",
   "version": "3.6.8"
  },
  "toc": {
   "base_numbering": 1,
   "nav_menu": {},
   "number_sections": true,
   "sideBar": true,
   "skip_h1_title": false,
   "title_cell": "Table of Contents",
   "title_sidebar": "Contents",
   "toc_cell": false,
   "toc_position": {},
   "toc_section_display": true,
   "toc_window_display": false
  }
 },
 "nbformat": 4,
 "nbformat_minor": 2
}
