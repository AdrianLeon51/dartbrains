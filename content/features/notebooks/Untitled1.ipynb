{
 "cells": [
  {
   "cell_type": "code",
   "execution_count": 10,
   "metadata": {
    "ExecuteTime": {
     "end_time": "2019-05-09T00:20:42.023458Z",
     "start_time": "2019-05-09T00:20:42.013214Z"
    }
   },
   "outputs": [],
   "source": [
    "%matplotlib inline\n",
    "\n",
    "import os\n",
    "import shutil\n",
    "import glob\n",
    "import numpy as np\n",
    "import pandas as pd\n",
    "import matplotlib.pyplot as plt\n",
    "import seaborn as sns\n",
    "from copy import deepcopy\n",
    "from nltools.data import Brain_Data, Design_Matrix, Adjacency\n",
    "from nltools.mask import expand_mask, roi_to_brain\n",
    "from nltools.stats import regress, zscore, fdr, one_sample_permutation, find_spikes\n",
    "from nltools.external import glover_hrf\n",
    "from nilearn.plotting import view_img, glass_brain, plot_stat_map\n",
    "from sklearn.metrics import pairwise_distances\n",
    "from scipy.stats import binom, ttest_1samp\n",
    "import networkx as nx\n",
    "from numpy import sin, pi, arange\n",
    "from numpy.fft import fft, ifft\n",
    "from scipy.signal import butter, filtfilt, freqz\n",
    "\n",
    "netid = 'f00275v'\n",
    "base_dir = '/dartfs/rc/lab/P/Psych60/'\n",
    "base_dir = '/Volumes/Psych60/'\n",
    "output_dir = os.path.join(base_dir, 'students_output', netid)\n",
    "data_dir = os.path.join(base_dir, 'data','brainomics_data')\n",
    "dat_dir = '/dartfs/rc/lab/D/DBIC/cosanlab/datax/Projects/trust/DS121/SUBJECTS'"
   ]
  },
  {
   "cell_type": "code",
   "execution_count": 9,
   "metadata": {
    "ExecuteTime": {
     "end_time": "2019-05-09T00:04:34.823001Z",
     "start_time": "2019-05-09T00:04:34.819770Z"
    }
   },
   "outputs": [
    {
     "data": {
      "text/plain": [
       "[]"
      ]
     },
     "execution_count": 9,
     "metadata": {},
     "output_type": "execute_result"
    }
   ],
   "source": [
    "glob.glob(os.path.join(dat_dir, '*','FUNCTIONAL',S*nii'))"
   ]
  },
  {
   "cell_type": "code",
   "execution_count": null,
   "metadata": {},
   "outputs": [],
   "source": [
    "## Whole Brain\n",
    "\n",
    "## Searchlight\n",
    "\n",
    "## ROI/Parcellation"
   ]
  }
 ],
 "metadata": {
  "kernelspec": {
   "display_name": "Python [conda env:Psych60_py368]",
   "language": "python",
   "name": "conda-env-Psych60_py368-py"
  },
  "language_info": {
   "codemirror_mode": {
    "name": "ipython",
    "version": 3
   },
   "file_extension": ".py",
   "mimetype": "text/x-python",
   "name": "python",
   "nbconvert_exporter": "python",
   "pygments_lexer": "ipython3",
   "version": "3.6.8"
  },
  "toc": {
   "base_numbering": 1,
   "nav_menu": {},
   "number_sections": true,
   "sideBar": true,
   "skip_h1_title": false,
   "title_cell": "Table of Contents",
   "title_sidebar": "Contents",
   "toc_cell": false,
   "toc_position": {},
   "toc_section_display": true,
   "toc_window_display": false
  }
 },
 "nbformat": 4,
 "nbformat_minor": 2
}
