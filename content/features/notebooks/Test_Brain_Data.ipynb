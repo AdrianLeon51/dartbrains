{
 "cells": [
  {
   "cell_type": "code",
   "execution_count": 1,
   "metadata": {
    "ExecuteTime": {
     "end_time": "2019-04-22T18:31:03.112984Z",
     "start_time": "2019-04-22T18:31:00.982914Z"
    }
   },
   "outputs": [],
   "source": [
    "%matplotlib inline\n",
    "\n",
    "import os\n",
    "import glob\n",
    "import numpy as np\n",
    "import pandas as pd\n",
    "import matplotlib.pyplot as plt\n",
    "import seaborn as sns\n",
    "from nltools.stats import regress, zscore\n",
    "from nltools.data import Brain_Data, Design_Matrix\n",
    "from nltools.stats import find_spikes \n",
    "from nilearn.plotting import view_img, glass_brain, plot_stat_map\n",
    "\n",
    "netid = 'f00275v'\n",
    "base_dir = '/dartfs/rc/lab/P/Psych60/students_output/%s' % netid\n",
    "# '/Users/lukechang/Dropbox/Dartmouth/Teaching/Psych60_HumanBrainImaging/Labs/7_GLM'\n",
    "# data_dir = '/Volumes/Psych60/data/brainomics_data'\n",
    "data_dir = '/dartfs/rc/lab/P/Psych60/data/brainomics_data/'"
   ]
  },
  {
   "cell_type": "code",
   "execution_count": 2,
   "metadata": {
    "ExecuteTime": {
     "end_time": "2019-04-22T18:31:05.249133Z",
     "start_time": "2019-04-22T18:31:05.107998Z"
    },
    "scrolled": false
   },
   "outputs": [
    {
     "data": {
      "text/plain": [
       "5805.614"
      ]
     },
     "execution_count": 2,
     "metadata": {},
     "output_type": "execute_result"
    }
   ],
   "source": [
    "from nltools.data import Brain_Data\n",
    "from nltools.utils import get_anatomical\n",
    "\n",
    "d = Brain_Data(get_anatomical())\n",
    "d.mean()"
   ]
  },
  {
   "cell_type": "code",
   "execution_count": null,
   "metadata": {},
   "outputs": [],
   "source": []
  }
 ],
 "metadata": {
  "kernelspec": {
   "display_name": "Python [conda env:Psych60_py368]",
   "language": "python",
   "name": "conda-env-Psych60_py368-py"
  },
  "language_info": {
   "codemirror_mode": {
    "name": "ipython",
    "version": 3
   },
   "file_extension": ".py",
   "mimetype": "text/x-python",
   "name": "python",
   "nbconvert_exporter": "python",
   "pygments_lexer": "ipython3",
   "version": "3.6.8"
  },
  "toc": {
   "base_numbering": 1,
   "nav_menu": {},
   "number_sections": true,
   "sideBar": true,
   "skip_h1_title": false,
   "title_cell": "Table of Contents",
   "title_sidebar": "Contents",
   "toc_cell": false,
   "toc_position": {},
   "toc_section_display": true,
   "toc_window_display": false
  }
 },
 "nbformat": 4,
 "nbformat_minor": 2
}
